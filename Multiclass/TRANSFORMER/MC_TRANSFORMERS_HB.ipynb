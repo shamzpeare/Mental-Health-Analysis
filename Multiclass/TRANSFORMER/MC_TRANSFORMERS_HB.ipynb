{
  "nbformat": 4,
  "nbformat_minor": 0,
  "metadata": {
    "colab": {
      "provenance": [],
      "gpuType": "T4"
    },
    "kernelspec": {
      "name": "python3",
      "display_name": "Python 3"
    },
    "language_info": {
      "name": "python"
    },
    "accelerator": "GPU"
  },
  "cells": [
    {
      "cell_type": "markdown",
      "source": [
        "**Preprocessing**"
      ],
      "metadata": {
        "id": "gQ1Tr6U8yAKi"
      }
    },
    {
      "cell_type": "code",
      "source": [
        "!pip uninstall -y numpy gensim\n",
        "!pip install --no-cache-dir numpy==1.23.5 gensim"
      ],
      "metadata": {
        "colab": {
          "base_uri": "https://localhost:8080/",
          "height": 845
        },
        "id": "632bzkYT3qrX",
        "outputId": "4be431f9-47e0-4e46-fa0a-d29504027005"
      },
      "execution_count": 1,
      "outputs": [
        {
          "output_type": "stream",
          "name": "stdout",
          "text": [
            "Found existing installation: numpy 2.0.2\n",
            "Uninstalling numpy-2.0.2:\n",
            "  Successfully uninstalled numpy-2.0.2\n",
            "\u001b[33mWARNING: Skipping gensim as it is not installed.\u001b[0m\u001b[33m\n",
            "\u001b[0mCollecting numpy==1.23.5\n",
            "  Downloading numpy-1.23.5-cp311-cp311-manylinux_2_17_x86_64.manylinux2014_x86_64.whl.metadata (2.3 kB)\n",
            "Collecting gensim\n",
            "  Downloading gensim-4.3.3-cp311-cp311-manylinux_2_17_x86_64.manylinux2014_x86_64.whl.metadata (8.1 kB)\n",
            "Collecting scipy<1.14.0,>=1.7.0 (from gensim)\n",
            "  Downloading scipy-1.13.1-cp311-cp311-manylinux_2_17_x86_64.manylinux2014_x86_64.whl.metadata (60 kB)\n",
            "\u001b[2K     \u001b[90m━━━━━━━━━━━━━━━━━━━━━━━━━━━━━━━━━━━━━━━\u001b[0m \u001b[32m60.6/60.6 kB\u001b[0m \u001b[31m154.6 MB/s\u001b[0m eta \u001b[36m0:00:00\u001b[0m\n",
            "\u001b[?25hRequirement already satisfied: smart-open>=1.8.1 in /usr/local/lib/python3.11/dist-packages (from gensim) (7.1.0)\n",
            "Requirement already satisfied: wrapt in /usr/local/lib/python3.11/dist-packages (from smart-open>=1.8.1->gensim) (1.17.2)\n",
            "Downloading numpy-1.23.5-cp311-cp311-manylinux_2_17_x86_64.manylinux2014_x86_64.whl (17.1 MB)\n",
            "\u001b[2K   \u001b[90m━━━━━━━━━━━━━━━━━━━━━━━━━━━━━━━━━━━━━━━━\u001b[0m \u001b[32m17.1/17.1 MB\u001b[0m \u001b[31m135.3 MB/s\u001b[0m eta \u001b[36m0:00:00\u001b[0m\n",
            "\u001b[?25hDownloading gensim-4.3.3-cp311-cp311-manylinux_2_17_x86_64.manylinux2014_x86_64.whl (26.7 MB)\n",
            "\u001b[2K   \u001b[90m━━━━━━━━━━━━━━━━━━━━━━━━━━━━━━━━━━━━━━━━\u001b[0m \u001b[32m26.7/26.7 MB\u001b[0m \u001b[31m168.1 MB/s\u001b[0m eta \u001b[36m0:00:00\u001b[0m\n",
            "\u001b[?25hDownloading scipy-1.13.1-cp311-cp311-manylinux_2_17_x86_64.manylinux2014_x86_64.whl (38.6 MB)\n",
            "\u001b[2K   \u001b[90m━━━━━━━━━━━━━━━━━━━━━━━━━━━━━━━━━━━━━━━━\u001b[0m \u001b[32m38.6/38.6 MB\u001b[0m \u001b[31m112.6 MB/s\u001b[0m eta \u001b[36m0:00:00\u001b[0m\n",
            "\u001b[?25hInstalling collected packages: numpy, scipy, gensim\n",
            "  Attempting uninstall: scipy\n",
            "    Found existing installation: scipy 1.15.3\n",
            "    Uninstalling scipy-1.15.3:\n",
            "      Successfully uninstalled scipy-1.15.3\n",
            "\u001b[31mERROR: pip's dependency resolver does not currently take into account all the packages that are installed. This behaviour is the source of the following dependency conflicts.\n",
            "thinc 8.3.6 requires numpy<3.0.0,>=2.0.0, but you have numpy 1.23.5 which is incompatible.\n",
            "bigframes 2.3.0 requires numpy>=1.24.0, but you have numpy 1.23.5 which is incompatible.\n",
            "albumentations 2.0.6 requires numpy>=1.24.4, but you have numpy 1.23.5 which is incompatible.\n",
            "tsfresh 0.21.0 requires scipy>=1.14.0; python_version >= \"3.10\", but you have scipy 1.13.1 which is incompatible.\n",
            "jaxlib 0.5.1 requires numpy>=1.25, but you have numpy 1.23.5 which is incompatible.\n",
            "chex 0.1.89 requires numpy>=1.24.1, but you have numpy 1.23.5 which is incompatible.\n",
            "scikit-image 0.25.2 requires numpy>=1.24, but you have numpy 1.23.5 which is incompatible.\n",
            "imbalanced-learn 0.13.0 requires numpy<3,>=1.24.3, but you have numpy 1.23.5 which is incompatible.\n",
            "jax 0.5.2 requires numpy>=1.25, but you have numpy 1.23.5 which is incompatible.\n",
            "xarray 2025.3.1 requires numpy>=1.24, but you have numpy 1.23.5 which is incompatible.\n",
            "blosc2 3.3.2 requires numpy>=1.26, but you have numpy 1.23.5 which is incompatible.\n",
            "albucore 0.0.24 requires numpy>=1.24.4, but you have numpy 1.23.5 which is incompatible.\n",
            "tensorflow 2.18.0 requires numpy<2.1.0,>=1.26.0, but you have numpy 1.23.5 which is incompatible.\n",
            "pymc 5.22.0 requires numpy>=1.25.0, but you have numpy 1.23.5 which is incompatible.\n",
            "treescope 0.1.9 requires numpy>=1.25.2, but you have numpy 1.23.5 which is incompatible.\u001b[0m\u001b[31m\n",
            "\u001b[0mSuccessfully installed gensim-4.3.3 numpy-1.23.5 scipy-1.13.1\n"
          ]
        },
        {
          "output_type": "display_data",
          "data": {
            "application/vnd.colab-display-data+json": {
              "pip_warning": {
                "packages": [
                  "numpy"
                ]
              },
              "id": "58719aa216504bb7b189eb30dd629176"
            }
          },
          "metadata": {}
        }
      ]
    },
    {
      "cell_type": "code",
      "execution_count": 1,
      "metadata": {
        "colab": {
          "base_uri": "https://localhost:8080/"
        },
        "id": "FQAvZThXv-cz",
        "outputId": "ec646e59-7074-45f7-f88d-0bdaf1bf2097"
      },
      "outputs": [
        {
          "output_type": "stream",
          "name": "stdout",
          "text": [
            "[==================================================] 100.0% 1662.8/1662.8MB downloaded\n"
          ]
        }
      ],
      "source": [
        "import re\n",
        "import numpy as np\n",
        "import gensim.downloader as api\n",
        "from gensim.utils import simple_preprocess\n",
        "from sklearn.feature_extraction.text import ENGLISH_STOP_WORDS\n",
        "\n",
        "word2vec_model = api.load(\"word2vec-google-news-300\")"
      ]
    },
    {
      "cell_type": "code",
      "source": [
        "import pandas as pd\n",
        "df = pd.read_csv('Combined Data.csv')\n",
        "def preprocess_and_tokenize(text):\n",
        "    if not isinstance(text, str):\n",
        "        return []\n",
        "\n",
        "    text = re.sub(r\"[^A-Za-z0-9\\s]\", \"\", text.lower())\n",
        "    tokens = simple_preprocess(text, deacc=True)\n",
        "    tokens = [word for word in tokens if word not in ENGLISH_STOP_WORDS]\n",
        "    return tokens\n",
        "\n",
        "df['tokens'] = df['statement'].apply(preprocess_and_tokenize)\n",
        "def get_average_word2vec(tokens, model, vector_size=300):\n",
        "    vectors = [model[word] for word in tokens if word in model]\n",
        "    return np.mean(vectors, axis=0) if vectors else np.zeros(vector_size)\n",
        "\n",
        "df['word2vec_vector'] = df['tokens'].apply(lambda x: get_average_word2vec(x, word2vec_model))\n",
        "from sklearn.preprocessing import LabelEncoder\n",
        "\n",
        "le = LabelEncoder()\n",
        "df['status'] = le.fit_transform(df['status'])\n",
        "\n",
        "label_mapping = dict(zip(le.classes_, le.transform(le.classes_)))\n",
        "print(\"Label Mapping:\", label_mapping)\n",
        "\n",
        "print(df['status'].value_counts())\n"
      ],
      "metadata": {
        "colab": {
          "base_uri": "https://localhost:8080/"
        },
        "id": "JMMYWnkPwUdg",
        "outputId": "7733a723-9991-4058-d212-335102c347a8"
      },
      "execution_count": 6,
      "outputs": [
        {
          "output_type": "stream",
          "name": "stdout",
          "text": [
            "Label Mapping: {'Anxiety': 0, 'Bipolar': 1, 'Depression': 2, 'Normal': 3, 'Personality disorder': 4, 'Stress': 5, 'Suicidal': 6}\n",
            "status\n",
            "3    16351\n",
            "2    15404\n",
            "6    10653\n",
            "0     3888\n",
            "1     2877\n",
            "5     2669\n",
            "4     1201\n",
            "Name: count, dtype: int64\n"
          ]
        }
      ]
    },
    {
      "cell_type": "code",
      "source": [
        "import torch\n",
        "import torch.nn as nn\n",
        "import torch.optim as optim\n",
        "import torch.nn.functional as F\n",
        "from torch.utils.data import DataLoader, TensorDataset\n",
        "from sklearn.model_selection import train_test_split\n",
        "import numpy as np\n",
        "\n",
        "# Use GPU if available\n",
        "device = torch.device(\"cuda\" if torch.cuda.is_available() else \"cpu\")\n",
        "\n",
        "# Prepare data\n",
        "X = np.stack(df['word2vec_vector'].values)\n",
        "y = df['status'].values\n",
        "\n",
        "X_tensor = torch.tensor(X, dtype=torch.float32).to(device)\n",
        "y_tensor = torch.tensor(y, dtype=torch.long).to(device)\n",
        "\n",
        "# Train/test split\n",
        "X_train, X_test, y_train, y_test = train_test_split(X_tensor, y_tensor, test_size=0.2, random_state=42)\n",
        "\n",
        "train_data = TensorDataset(X_train, y_train)\n",
        "test_data = TensorDataset(X_test, y_test)\n",
        "\n",
        "train_loader = DataLoader(train_data, batch_size=32, shuffle=True)\n",
        "test_loader = DataLoader(test_data, batch_size=32, shuffle=False)\n"
      ],
      "metadata": {
        "id": "fZmkNHscywKR"
      },
      "execution_count": 7,
      "outputs": []
    },
    {
      "cell_type": "code",
      "source": [
        "device"
      ],
      "metadata": {
        "colab": {
          "base_uri": "https://localhost:8080/"
        },
        "id": "ABSnxssc8ECt",
        "outputId": "8b1ed81e-998b-462d-c010-66567b540200"
      },
      "execution_count": 8,
      "outputs": [
        {
          "output_type": "execute_result",
          "data": {
            "text/plain": [
              "device(type='cuda')"
            ]
          },
          "metadata": {},
          "execution_count": 8
        }
      ]
    },
    {
      "cell_type": "markdown",
      "source": [
        "TRANSFORMER + DT"
      ],
      "metadata": {
        "id": "r2_aMV4AB7C8"
      }
    },
    {
      "cell_type": "code",
      "source": [
        "import torch\n",
        "import torch.nn as nn\n",
        "import torch.optim as optim\n",
        "import torch.utils.data as data\n",
        "import torch.nn.functional as F\n",
        "\n",
        "device = torch.device(\"cuda\" if torch.cuda.is_available() else \"cpu\")\n",
        "\n",
        "class PositionalEncoding(nn.Module):\n",
        "    def __init__(self, d_model, max_len=5000):\n",
        "        super(PositionalEncoding, self).__init__()\n",
        "        self.d_model = d_model\n",
        "        pe = torch.zeros(max_len, d_model)\n",
        "        position = torch.arange(0, max_len, dtype=torch.float).unsqueeze(1)\n",
        "        div_term = torch.exp(torch.arange(0, d_model, 2).float() * (-torch.log(torch.tensor(10000.0)) / d_model))\n",
        "        pe[:, 0::2] = torch.sin(position * div_term)\n",
        "        pe[:, 1::2] = torch.cos(position * div_term)\n",
        "        self.pe = pe.unsqueeze(0)\n",
        "\n",
        "    def forward(self, x):\n",
        "        return x + self.pe[:, :x.size(1), :].to(x.device)\n",
        "\n",
        "class TransformerFeatureExtractor(nn.Module):\n",
        "    def __init__(self, input_size, d_model=128, num_heads=4, num_layers=2):\n",
        "        super(TransformerFeatureExtractor, self).__init__()\n",
        "        self.embedding = nn.Linear(input_size, d_model)\n",
        "        self.pos_encoder = PositionalEncoding(d_model)\n",
        "        encoder_layers = nn.TransformerEncoderLayer(d_model=d_model, nhead=num_heads, dim_feedforward=256, dropout=0.1, batch_first=True)\n",
        "        self.transformer_encoder = nn.TransformerEncoder(encoder_layers, num_layers=num_layers)\n",
        "\n",
        "    def forward(self, x):\n",
        "        x = self.embedding(x).unsqueeze(1)\n",
        "        x = self.pos_encoder(x)\n",
        "        x = self.transformer_encoder(x)\n",
        "        return x.mean(dim=1)\n",
        "\n",
        "class SoftDecisionTree(nn.Module):\n",
        "    def __init__(self, input_dim, num_classes, num_nodes=10):\n",
        "        super(SoftDecisionTree, self).__init__()\n",
        "        self.inner_nodes = nn.Linear(input_dim, num_nodes)\n",
        "        self.leaf_nodes = nn.Linear(num_nodes, num_classes)\n",
        "\n",
        "    def forward(self, x):\n",
        "        decision_weights = torch.sigmoid(self.inner_nodes(x))\n",
        "        leaf_outputs = self.leaf_nodes(decision_weights)\n",
        "        return leaf_outputs\n",
        "\n",
        "class TransformerDecisionTree(nn.Module):\n",
        "    def __init__(self, input_dim, hidden_dim, num_classes, num_nodes=10):\n",
        "        super(TransformerDecisionTree, self).__init__()\n",
        "        self.feature_extractor = TransformerFeatureExtractor(input_dim, hidden_dim)\n",
        "        self.decision_tree = SoftDecisionTree(hidden_dim, num_classes, num_nodes)\n",
        "\n",
        "    def forward(self, x):\n",
        "        features = self.feature_extractor(x)\n",
        "        output = self.decision_tree(features)\n",
        "        return output\n",
        "\n",
        "class CustomDataset(data.Dataset):\n",
        "    def __init__(self, X, y):\n",
        "        self.X = torch.tensor(X).clone().detach().float()\n",
        "        self.y = torch.tensor(y).clone().detach().long()\n",
        "\n",
        "    def __len__(self):\n",
        "        return len(self.X)\n",
        "\n",
        "    def __getitem__(self, idx):\n",
        "        return self.X[idx], self.y[idx]\n",
        "\n",
        "def train_model(model, train_loader, test_loader, epochs=10, lr=0.001):\n",
        "    model.to(device)\n",
        "    optimizer = optim.Adam(model.parameters(), lr=lr)\n",
        "    criterion = nn.CrossEntropyLoss()\n",
        "\n",
        "    for epoch in range(epochs):\n",
        "        model.train()\n",
        "        total_loss = 0\n",
        "        correct = 0\n",
        "        total = 0\n",
        "\n",
        "        for X_batch, y_batch in train_loader:\n",
        "            X_batch, y_batch = X_batch.to(device), y_batch.to(device)\n",
        "            optimizer.zero_grad()\n",
        "            outputs = model(X_batch)\n",
        "            loss = criterion(outputs, y_batch)\n",
        "            loss.backward()\n",
        "            optimizer.step()\n",
        "\n",
        "            total_loss += loss.item()\n",
        "            _, predicted = torch.max(outputs, 1)\n",
        "            total += y_batch.size(0)\n",
        "            correct += (predicted == y_batch).sum().item()\n",
        "\n",
        "        train_acc = 100 * correct / total\n",
        "        print(f\"Epoch {epoch+1}, Loss: {total_loss/len(train_loader):.4f}, Train Accuracy: {train_acc:.2f}%\")\n",
        "\n",
        "    model.eval()\n",
        "    correct = 0\n",
        "    total = 0\n",
        "\n",
        "    with torch.no_grad():\n",
        "        for X_batch, y_batch in test_loader:\n",
        "            X_batch, y_batch = X_batch.to(device), y_batch.to(device)\n",
        "            outputs = model(X_batch)\n",
        "            _, predicted = torch.max(outputs, 1)\n",
        "            total += y_batch.size(0)\n",
        "            correct += (predicted == y_batch).sum().item()\n",
        "\n",
        "    print(f\"Test Accuracy: {100 * correct / total:.2f}%\")\n",
        "\n",
        "batch_size = 64\n",
        "train_dataset = CustomDataset(X_train, y_train)\n",
        "test_dataset = CustomDataset(X_test, y_test)\n",
        "train_loader = data.DataLoader(train_dataset, batch_size=batch_size, shuffle=True)\n",
        "test_loader = data.DataLoader(test_dataset, batch_size=batch_size, shuffle=False)\n",
        "\n",
        "input_dim = X_train.shape[1]\n",
        "num_classes = len(torch.unique(y_train))\n",
        "model = TransformerDecisionTree(input_dim=input_dim, hidden_dim=128, num_classes=num_classes, num_nodes=10)\n",
        "\n",
        "train_model(model, train_loader, test_loader, epochs=10, lr=0.001)\n"
      ],
      "metadata": {
        "id": "_k7S0KFC0J58",
        "colab": {
          "base_uri": "https://localhost:8080/"
        },
        "outputId": "eaf63710-4bd2-4994-d86c-1b526ab89232"
      },
      "execution_count": 12,
      "outputs": [
        {
          "output_type": "stream",
          "name": "stderr",
          "text": [
            "<ipython-input-12-f4c337697e3c>:61: UserWarning: To copy construct from a tensor, it is recommended to use sourceTensor.clone().detach() or sourceTensor.clone().detach().requires_grad_(True), rather than torch.tensor(sourceTensor).\n",
            "  self.X = torch.tensor(X).clone().detach().float()\n",
            "<ipython-input-12-f4c337697e3c>:62: UserWarning: To copy construct from a tensor, it is recommended to use sourceTensor.clone().detach() or sourceTensor.clone().detach().requires_grad_(True), rather than torch.tensor(sourceTensor).\n",
            "  self.y = torch.tensor(y).clone().detach().long()\n"
          ]
        },
        {
          "output_type": "stream",
          "name": "stdout",
          "text": [
            "Epoch 1, Loss: 1.4302, Train Accuracy: 47.65%\n",
            "Epoch 2, Loss: 1.1343, Train Accuracy: 57.53%\n",
            "Epoch 3, Loss: 1.0439, Train Accuracy: 60.91%\n",
            "Epoch 4, Loss: 0.9940, Train Accuracy: 63.23%\n",
            "Epoch 5, Loss: 0.9640, Train Accuracy: 64.37%\n",
            "Epoch 6, Loss: 0.9422, Train Accuracy: 65.40%\n",
            "Epoch 7, Loss: 0.9177, Train Accuracy: 66.16%\n",
            "Epoch 8, Loss: 0.8973, Train Accuracy: 66.76%\n",
            "Epoch 9, Loss: 0.8719, Train Accuracy: 67.93%\n",
            "Epoch 10, Loss: 0.8630, Train Accuracy: 68.19%\n",
            "Test Accuracy: 66.17%\n"
          ]
        }
      ]
    },
    {
      "cell_type": "markdown",
      "source": [
        "TRANSFORMER + SVM"
      ],
      "metadata": {
        "id": "awTuUmEWC3LU"
      }
    },
    {
      "cell_type": "code",
      "source": [
        "import torch\n",
        "import torch.nn as nn\n",
        "import torch.optim as optim\n",
        "import torch.utils.data as data\n",
        "import torch.nn.functional as F\n",
        "\n",
        "device = torch.device(\"cuda\" if torch.cuda.is_available() else \"cpu\")\n",
        "\n",
        "class PositionalEncoding(nn.Module):\n",
        "    def __init__(self, d_model, max_len=5000):\n",
        "        super(PositionalEncoding, self).__init__()\n",
        "        self.d_model = d_model\n",
        "        pe = torch.zeros(max_len, d_model)\n",
        "        position = torch.arange(0, max_len, dtype=torch.float).unsqueeze(1)\n",
        "        div_term = torch.exp(torch.arange(0, d_model, 2).float() * (-torch.log(torch.tensor(10000.0)) / d_model))\n",
        "        pe[:, 0::2] = torch.sin(position * div_term)\n",
        "        pe[:, 1::2] = torch.cos(position * div_term)\n",
        "        self.pe = pe.unsqueeze(0)\n",
        "\n",
        "    def forward(self, x):\n",
        "        return x + self.pe[:, :x.size(1), :].to(x.device)\n",
        "\n",
        "class TransformerFeatureExtractor(nn.Module):\n",
        "    def __init__(self, input_size, d_model=128, num_heads=4, num_layers=2):\n",
        "        super(TransformerFeatureExtractor, self).__init__()\n",
        "        self.embedding = nn.Linear(input_size, d_model)\n",
        "        self.pos_encoder = PositionalEncoding(d_model)\n",
        "        encoder_layers = nn.TransformerEncoderLayer(d_model=d_model, nhead=num_heads, dim_feedforward=256, dropout=0.1, batch_first=True)\n",
        "        self.transformer_encoder = nn.TransformerEncoder(encoder_layers, num_layers=num_layers)\n",
        "\n",
        "    def forward(self, x):\n",
        "        x = self.embedding(x).unsqueeze(1)\n",
        "        x = self.pos_encoder(x)\n",
        "        x = self.transformer_encoder(x)\n",
        "        return x.mean(dim=1)\n",
        "\n",
        "class SoftSVM(nn.Module):\n",
        "    def __init__(self, input_dim, num_classes):\n",
        "        super(SoftSVM, self).__init__()\n",
        "        self.fc = nn.Linear(input_dim, num_classes)\n",
        "\n",
        "    def forward(self, x):\n",
        "        return self.fc(x)\n",
        "\n",
        "class TransformerSVM(nn.Module):\n",
        "    def __init__(self, input_dim, hidden_dim, num_classes):\n",
        "        super(TransformerSVM, self).__init__()\n",
        "        self.feature_extractor = TransformerFeatureExtractor(input_dim, hidden_dim)\n",
        "        self.svm = SoftSVM(hidden_dim, num_classes)\n",
        "\n",
        "    def forward(self, x):\n",
        "        features = self.feature_extractor(x)\n",
        "        output = self.svm(features)\n",
        "        return output\n",
        "\n",
        "class CustomDataset(data.Dataset):\n",
        "    def __init__(self, X, y):\n",
        "        self.X = torch.tensor(X).clone().detach().float()\n",
        "        self.y = torch.tensor(y).clone().detach().long()\n",
        "\n",
        "    def __len__(self):\n",
        "        return len(self.X)\n",
        "\n",
        "    def __getitem__(self, idx):\n",
        "        return self.X[idx], self.y[idx]\n",
        "\n",
        "def train_model(model, train_loader, test_loader, epochs=10, lr=0.001):\n",
        "    model.to(device)\n",
        "    optimizer = optim.Adam(model.parameters(), lr=lr)\n",
        "    criterion = nn.CrossEntropyLoss()\n",
        "\n",
        "    for epoch in range(epochs):\n",
        "        model.train()\n",
        "        total_loss = 0\n",
        "        correct = 0\n",
        "        total = 0\n",
        "\n",
        "        for X_batch, y_batch in train_loader:\n",
        "            X_batch, y_batch = X_batch.to(device), y_batch.to(device)\n",
        "            optimizer.zero_grad()\n",
        "            outputs = model(X_batch)\n",
        "            loss = criterion(outputs, y_batch)\n",
        "            loss.backward()\n",
        "            optimizer.step()\n",
        "\n",
        "            total_loss += loss.item()\n",
        "            _, predicted = torch.max(outputs, 1)\n",
        "            total += y_batch.size(0)\n",
        "            correct += (predicted == y_batch).sum().item()\n",
        "\n",
        "        train_acc = 100 * correct / total\n",
        "        print(f\"Epoch {epoch+1}, Loss: {total_loss/len(train_loader):.4f}, Train Accuracy: {train_acc:.2f}%\")\n",
        "\n",
        "    model.eval()\n",
        "    correct = 0\n",
        "    total = 0\n",
        "\n",
        "    with torch.no_grad():\n",
        "        for X_batch, y_batch in test_loader:\n",
        "            X_batch, y_batch = X_batch.to(device), y_batch.to(device)\n",
        "            outputs = model(X_batch)\n",
        "            _, predicted = torch.max(outputs, 1)\n",
        "            total += y_batch.size(0)\n",
        "            correct += (predicted == y_batch).sum().item()\n",
        "\n",
        "    print(f\"Test Accuracy: {100 * correct / total:.2f}%\")\n",
        "\n",
        "batch_size = 64\n",
        "train_dataset = CustomDataset(X_train, y_train)\n",
        "test_dataset = CustomDataset(X_test, y_test)\n",
        "train_loader = data.DataLoader(train_dataset, batch_size=batch_size, shuffle=True)\n",
        "test_loader = data.DataLoader(test_dataset, batch_size=batch_size, shuffle=False)\n",
        "\n",
        "input_dim = X_train.shape[1]\n",
        "num_classes = len(torch.unique(y_train))\n",
        "model = TransformerSVM(input_dim=input_dim, hidden_dim=128, num_classes=num_classes)\n",
        "\n",
        "train_model(model, train_loader, test_loader, epochs=10, lr=0.001)\n"
      ],
      "metadata": {
        "colab": {
          "base_uri": "https://localhost:8080/"
        },
        "id": "kchahq8yC6Nb",
        "outputId": "7acfa472-a110-4ed0-e617-3eb8d6ab271c"
      },
      "execution_count": 13,
      "outputs": [
        {
          "output_type": "stream",
          "name": "stderr",
          "text": [
            "<ipython-input-13-2e0227d7cd37>:58: UserWarning: To copy construct from a tensor, it is recommended to use sourceTensor.clone().detach() or sourceTensor.clone().detach().requires_grad_(True), rather than torch.tensor(sourceTensor).\n",
            "  self.X = torch.tensor(X).clone().detach().float()\n",
            "<ipython-input-13-2e0227d7cd37>:59: UserWarning: To copy construct from a tensor, it is recommended to use sourceTensor.clone().detach() or sourceTensor.clone().detach().requires_grad_(True), rather than torch.tensor(sourceTensor).\n",
            "  self.y = torch.tensor(y).clone().detach().long()\n"
          ]
        },
        {
          "output_type": "stream",
          "name": "stdout",
          "text": [
            "Epoch 1, Loss: 1.0705, Train Accuracy: 58.98%\n",
            "Epoch 2, Loss: 0.8568, Train Accuracy: 67.56%\n",
            "Epoch 3, Loss: 0.8068, Train Accuracy: 69.45%\n",
            "Epoch 4, Loss: 0.7779, Train Accuracy: 70.33%\n",
            "Epoch 5, Loss: 0.7586, Train Accuracy: 71.04%\n",
            "Epoch 6, Loss: 0.7437, Train Accuracy: 71.63%\n",
            "Epoch 7, Loss: 0.7319, Train Accuracy: 72.05%\n",
            "Epoch 8, Loss: 0.7240, Train Accuracy: 72.41%\n",
            "Epoch 9, Loss: 0.7145, Train Accuracy: 72.85%\n",
            "Epoch 10, Loss: 0.7059, Train Accuracy: 73.01%\n",
            "Test Accuracy: 71.80%\n"
          ]
        }
      ]
    },
    {
      "cell_type": "markdown",
      "source": [
        "TRANSFORMER+RF"
      ],
      "metadata": {
        "id": "09bVnSN6DIEu"
      }
    },
    {
      "cell_type": "code",
      "source": [
        "import torch\n",
        "import torch.nn as nn\n",
        "import torch.optim as optim\n",
        "import torch.utils.data as data\n",
        "import torch.nn.functional as F\n",
        "\n",
        "device = torch.device(\"cuda\" if torch.cuda.is_available() else \"cpu\")\n",
        "\n",
        "class PositionalEncoding(nn.Module):\n",
        "    def __init__(self, d_model, max_len=5000):\n",
        "        super(PositionalEncoding, self).__init__()\n",
        "        self.d_model = d_model\n",
        "        pe = torch.zeros(max_len, d_model)\n",
        "        position = torch.arange(0, max_len, dtype=torch.float).unsqueeze(1)\n",
        "        div_term = torch.exp(torch.arange(0, d_model, 2).float() * (-torch.log(torch.tensor(10000.0)) / d_model))\n",
        "        pe[:, 0::2] = torch.sin(position * div_term)\n",
        "        pe[:, 1::2] = torch.cos(position * div_term)\n",
        "        self.pe = pe.unsqueeze(0)\n",
        "\n",
        "    def forward(self, x):\n",
        "        return x + self.pe[:, :x.size(1), :].to(x.device)\n",
        "\n",
        "class TransformerFeatureExtractor(nn.Module):\n",
        "    def __init__(self, input_size, d_model=128, num_heads=4, num_layers=2):\n",
        "        super(TransformerFeatureExtractor, self).__init__()\n",
        "        self.embedding = nn.Linear(input_size, d_model)\n",
        "        self.pos_encoder = PositionalEncoding(d_model)\n",
        "        encoder_layers = nn.TransformerEncoderLayer(d_model=d_model, nhead=num_heads, dim_feedforward=256, dropout=0.1, batch_first=True)\n",
        "        self.transformer_encoder = nn.TransformerEncoder(encoder_layers, num_layers=num_layers)\n",
        "\n",
        "    def forward(self, x):\n",
        "        x = self.embedding(x).unsqueeze(1)\n",
        "        x = self.pos_encoder(x)\n",
        "        x = self.transformer_encoder(x)\n",
        "        return x.mean(dim=1)\n",
        "\n",
        "class SoftDecisionTree(nn.Module):\n",
        "    def __init__(self, input_dim, num_classes, num_nodes=10):\n",
        "        super(SoftDecisionTree, self).__init__()\n",
        "        self.inner_nodes = nn.Linear(input_dim, num_nodes)\n",
        "        self.leaf_nodes = nn.Linear(num_nodes, num_classes)\n",
        "\n",
        "    def forward(self, x):\n",
        "        decision_weights = torch.sigmoid(self.inner_nodes(x))\n",
        "        leaf_outputs = self.leaf_nodes(decision_weights)\n",
        "        return leaf_outputs\n",
        "\n",
        "class SoftRandomForest(nn.Module):\n",
        "    def __init__(self, input_dim, num_classes, num_trees=5, num_nodes=10):\n",
        "        super(SoftRandomForest, self).__init__()\n",
        "        self.trees = nn.ModuleList([SoftDecisionTree(input_dim, num_classes, num_nodes) for _ in range(num_trees)])\n",
        "\n",
        "    def forward(self, x):\n",
        "        tree_outputs = torch.stack([tree(x) for tree in self.trees], dim=0)\n",
        "        return tree_outputs.mean(dim=0)\n",
        "\n",
        "class TransformerRandomForest(nn.Module):\n",
        "    def __init__(self, input_dim, hidden_dim, num_classes, num_trees=5, num_nodes=10):\n",
        "        super(TransformerRandomForest, self).__init__()\n",
        "        self.feature_extractor = TransformerFeatureExtractor(input_dim, hidden_dim)\n",
        "        self.random_forest = SoftRandomForest(hidden_dim, num_classes, num_trees, num_nodes)\n",
        "\n",
        "    def forward(self, x):\n",
        "        features = self.feature_extractor(x)\n",
        "        output = self.random_forest(features)\n",
        "        return output\n",
        "\n",
        "class CustomDataset(data.Dataset):\n",
        "    def __init__(self, X, y):\n",
        "        self.X = torch.tensor(X).clone().detach().float()\n",
        "        self.y = torch.tensor(y).clone().detach().long()\n",
        "\n",
        "    def __len__(self):\n",
        "        return len(self.X)\n",
        "\n",
        "    def __getitem__(self, idx):\n",
        "        return self.X[idx], self.y[idx]\n",
        "\n",
        "def train_model(model, train_loader, test_loader, epochs=10, lr=0.001):\n",
        "    model.to(device)\n",
        "    optimizer = optim.Adam(model.parameters(), lr=lr)\n",
        "    criterion = nn.CrossEntropyLoss()\n",
        "\n",
        "    for epoch in range(epochs):\n",
        "        model.train()\n",
        "        total_loss = 0\n",
        "        correct = 0\n",
        "        total = 0\n",
        "\n",
        "        for X_batch, y_batch in train_loader:\n",
        "            X_batch, y_batch = X_batch.to(device), y_batch.to(device)\n",
        "            optimizer.zero_grad()\n",
        "            outputs = model(X_batch)\n",
        "            loss = criterion(outputs, y_batch)\n",
        "            loss.backward()\n",
        "            optimizer.step()\n",
        "\n",
        "            total_loss += loss.item()\n",
        "            _, predicted = torch.max(outputs, 1)\n",
        "            total += y_batch.size(0)\n",
        "            correct += (predicted == y_batch).sum().item()\n",
        "\n",
        "        train_acc = 100 * correct / total\n",
        "        print(f\"Epoch {epoch+1}, Loss: {total_loss/len(train_loader):.4f}, Train Accuracy: {train_acc:.2f}%\")\n",
        "\n",
        "    model.eval()\n",
        "    correct = 0\n",
        "    total = 0\n",
        "\n",
        "    with torch.no_grad():\n",
        "        for X_batch, y_batch in test_loader:\n",
        "            X_batch, y_batch = X_batch.to(device), y_batch.to(device)\n",
        "            outputs = model(X_batch)\n",
        "            _, predicted = torch.max(outputs, 1)\n",
        "            total += y_batch.size(0)\n",
        "            correct += (predicted == y_batch).sum().item()\n",
        "\n",
        "    print(f\"Test Accuracy: {100 * correct / total:.2f}%\")\n",
        "\n",
        "batch_size = 64\n",
        "train_dataset = CustomDataset(X_train, y_train)\n",
        "test_dataset = CustomDataset(X_test, y_test)\n",
        "train_loader = data.DataLoader(train_dataset, batch_size=batch_size, shuffle=True)\n",
        "test_loader = data.DataLoader(test_dataset, batch_size=batch_size, shuffle=False)\n",
        "\n",
        "input_dim = X_train.shape[1]\n",
        "num_classes = len(torch.unique(y_train))\n",
        "model = TransformerRandomForest(input_dim=input_dim, hidden_dim=128, num_classes=num_classes, num_trees=5, num_nodes=10)\n",
        "\n",
        "train_model(model, train_loader, test_loader, epochs=10, lr=0.001)\n"
      ],
      "metadata": {
        "colab": {
          "base_uri": "https://localhost:8080/"
        },
        "id": "VAbjAmn4DKJ6",
        "outputId": "e6253c30-1894-4911-aa51-6732eb3d2fdd"
      },
      "execution_count": 14,
      "outputs": [
        {
          "output_type": "stream",
          "name": "stderr",
          "text": [
            "<ipython-input-14-4c201d129b25>:70: UserWarning: To copy construct from a tensor, it is recommended to use sourceTensor.clone().detach() or sourceTensor.clone().detach().requires_grad_(True), rather than torch.tensor(sourceTensor).\n",
            "  self.X = torch.tensor(X).clone().detach().float()\n",
            "<ipython-input-14-4c201d129b25>:71: UserWarning: To copy construct from a tensor, it is recommended to use sourceTensor.clone().detach() or sourceTensor.clone().detach().requires_grad_(True), rather than torch.tensor(sourceTensor).\n",
            "  self.y = torch.tensor(y).clone().detach().long()\n"
          ]
        },
        {
          "output_type": "stream",
          "name": "stdout",
          "text": [
            "Epoch 1, Loss: 1.3643, Train Accuracy: 49.65%\n",
            "Epoch 2, Loss: 1.1066, Train Accuracy: 57.24%\n",
            "Epoch 3, Loss: 1.0357, Train Accuracy: 60.78%\n",
            "Epoch 4, Loss: 0.9737, Train Accuracy: 63.68%\n",
            "Epoch 5, Loss: 0.9280, Train Accuracy: 65.21%\n",
            "Epoch 6, Loss: 0.8947, Train Accuracy: 66.56%\n",
            "Epoch 7, Loss: 0.8707, Train Accuracy: 67.55%\n",
            "Epoch 8, Loss: 0.8509, Train Accuracy: 68.72%\n",
            "Epoch 9, Loss: 0.8323, Train Accuracy: 69.04%\n",
            "Epoch 10, Loss: 0.8126, Train Accuracy: 69.70%\n",
            "Test Accuracy: 69.51%\n"
          ]
        }
      ]
    },
    {
      "cell_type": "code",
      "source": [],
      "metadata": {
        "id": "jiKF8y7gDOAB"
      },
      "execution_count": null,
      "outputs": []
    }
  ]
}