{
  "nbformat": 4,
  "nbformat_minor": 0,
  "metadata": {
    "colab": {
      "provenance": [],
      "gpuType": "T4"
    },
    "kernelspec": {
      "name": "python3",
      "display_name": "Python 3"
    },
    "language_info": {
      "name": "python"
    },
    "accelerator": "GPU"
  },
  "cells": [
    {
      "cell_type": "markdown",
      "source": [
        "**PREPROCESSING**"
      ],
      "metadata": {
        "id": "N0E6AXfzE7F1"
      }
    },
    {
      "cell_type": "code",
      "execution_count": 4,
      "metadata": {
        "colab": {
          "base_uri": "https://localhost:8080/",
          "height": 706
        },
        "id": "m0FT7AEpCknb",
        "outputId": "61f168be-9595-4cbe-cfa7-126cb1e64758"
      },
      "outputs": [
        {
          "output_type": "stream",
          "name": "stdout",
          "text": [
            "Found existing installation: numpy 1.26.4\n",
            "Uninstalling numpy-1.26.4:\n",
            "  Successfully uninstalled numpy-1.26.4\n",
            "Found existing installation: gensim 4.3.3\n",
            "Uninstalling gensim-4.3.3:\n",
            "  Successfully uninstalled gensim-4.3.3\n",
            "Collecting numpy==1.23.5\n",
            "  Downloading numpy-1.23.5-cp311-cp311-manylinux_2_17_x86_64.manylinux2014_x86_64.whl.metadata (2.3 kB)\n",
            "Collecting gensim\n",
            "  Downloading gensim-4.3.3-cp311-cp311-manylinux_2_17_x86_64.manylinux2014_x86_64.whl.metadata (8.1 kB)\n",
            "Requirement already satisfied: scipy<1.14.0,>=1.7.0 in /usr/local/lib/python3.11/dist-packages (from gensim) (1.13.1)\n",
            "Requirement already satisfied: smart-open>=1.8.1 in /usr/local/lib/python3.11/dist-packages (from gensim) (7.1.0)\n",
            "Requirement already satisfied: wrapt in /usr/local/lib/python3.11/dist-packages (from smart-open>=1.8.1->gensim) (1.17.2)\n",
            "Downloading numpy-1.23.5-cp311-cp311-manylinux_2_17_x86_64.manylinux2014_x86_64.whl (17.1 MB)\n",
            "\u001b[2K   \u001b[90m━━━━━━━━━━━━━━━━━━━━━━━━━━━━━━━━━━━━━━━━\u001b[0m \u001b[32m17.1/17.1 MB\u001b[0m \u001b[31m239.9 MB/s\u001b[0m eta \u001b[36m0:00:00\u001b[0m\n",
            "\u001b[?25hDownloading gensim-4.3.3-cp311-cp311-manylinux_2_17_x86_64.manylinux2014_x86_64.whl (26.7 MB)\n",
            "\u001b[2K   \u001b[90m━━━━━━━━━━━━━━━━━━━━━━━━━━━━━━━━━━━━━━━━\u001b[0m \u001b[32m26.7/26.7 MB\u001b[0m \u001b[31m284.3 MB/s\u001b[0m eta \u001b[36m0:00:00\u001b[0m\n",
            "\u001b[?25hInstalling collected packages: numpy, gensim\n",
            "\u001b[31mERROR: pip's dependency resolver does not currently take into account all the packages that are installed. This behaviour is the source of the following dependency conflicts.\n",
            "xarray 2025.1.2 requires numpy>=1.24, but you have numpy 1.23.5 which is incompatible.\n",
            "chex 0.1.89 requires numpy>=1.24.1, but you have numpy 1.23.5 which is incompatible.\n",
            "pymc 5.21.1 requires numpy>=1.25.0, but you have numpy 1.23.5 which is incompatible.\n",
            "imbalanced-learn 0.13.0 requires numpy<3,>=1.24.3, but you have numpy 1.23.5 which is incompatible.\n",
            "jaxlib 0.5.1 requires numpy>=1.25, but you have numpy 1.23.5 which is incompatible.\n",
            "bigframes 1.40.0 requires numpy>=1.24.0, but you have numpy 1.23.5 which is incompatible.\n",
            "scikit-image 0.25.2 requires numpy>=1.24, but you have numpy 1.23.5 which is incompatible.\n",
            "blosc2 3.2.0 requires numpy>=1.26, but you have numpy 1.23.5 which is incompatible.\n",
            "jax 0.5.2 requires numpy>=1.25, but you have numpy 1.23.5 which is incompatible.\n",
            "treescope 0.1.9 requires numpy>=1.25.2, but you have numpy 1.23.5 which is incompatible.\n",
            "albucore 0.0.23 requires numpy>=1.24.4, but you have numpy 1.23.5 which is incompatible.\n",
            "tensorflow 2.18.0 requires numpy<2.1.0,>=1.26.0, but you have numpy 1.23.5 which is incompatible.\n",
            "albumentations 2.0.5 requires numpy>=1.24.4, but you have numpy 1.23.5 which is incompatible.\u001b[0m\u001b[31m\n",
            "\u001b[0mSuccessfully installed gensim-4.3.3 numpy-1.23.5\n"
          ]
        },
        {
          "output_type": "display_data",
          "data": {
            "application/vnd.colab-display-data+json": {
              "pip_warning": {
                "packages": [
                  "numpy"
                ]
              },
              "id": "5804fb2a970f433bbdcf68eb5b8d08f3"
            }
          },
          "metadata": {}
        }
      ],
      "source": [
        "!pip uninstall -y numpy gensim\n",
        "!pip install --no-cache-dir numpy==1.23.5 gensim"
      ]
    },
    {
      "cell_type": "code",
      "source": [
        "import re\n",
        "import numpy as np\n",
        "import gensim.downloader as api\n",
        "from gensim.utils import simple_preprocess\n",
        "from sklearn.feature_extraction.text import ENGLISH_STOP_WORDS\n",
        "\n",
        "word2vec_model = api.load(\"word2vec-google-news-300\")"
      ],
      "metadata": {
        "colab": {
          "base_uri": "https://localhost:8080/"
        },
        "id": "QmvdbNkuEp8U",
        "outputId": "f92a4167-b190-4386-bbca-ba5a57cb2011"
      },
      "execution_count": 3,
      "outputs": [
        {
          "output_type": "stream",
          "name": "stdout",
          "text": [
            "[==================================================] 100.0% 1662.8/1662.8MB downloaded\n"
          ]
        }
      ]
    },
    {
      "cell_type": "code",
      "source": [
        "import pandas as pd\n",
        "file_path = 'Combined Data.csv'\n",
        "df = pd.read_csv(file_path)\n",
        "def preprocess_and_tokenize(text):\n",
        "    if not isinstance(text, str):\n",
        "        return []\n",
        "\n",
        "    text = re.sub(r\"[^A-Za-z0-9\\s]\", \"\", text.lower())\n",
        "    tokens = simple_preprocess(text, deacc=True)\n",
        "    tokens = [word for word in tokens if word not in ENGLISH_STOP_WORDS]\n",
        "    return tokens\n",
        "\n",
        "df['tokens'] = df['statement'].apply(preprocess_and_tokenize)\n",
        "def get_average_word2vec(tokens, model, vector_size=300):\n",
        "    vectors = [model[word] for word in tokens if word in model]\n",
        "    return np.mean(vectors, axis=0) if vectors else np.zeros(vector_size)\n",
        "\n",
        "df['word2vec_vector'] = df['tokens'].apply(lambda x: get_average_word2vec(x, word2vec_model))\n",
        "\n",
        "\n",
        "df['status'] = df['status'].apply(lambda x: 0 if x == 'Normal' else 1)\n",
        "\n",
        "df['status'].value_counts()"
      ],
      "metadata": {
        "colab": {
          "base_uri": "https://localhost:8080/",
          "height": 178
        },
        "id": "E1KmjVOWEONa",
        "outputId": "f52df535-ad94-4d3b-c01c-044af5d83124"
      },
      "execution_count": 6,
      "outputs": [
        {
          "output_type": "execute_result",
          "data": {
            "text/plain": [
              "status\n",
              "1    36692\n",
              "0    16351\n",
              "Name: count, dtype: int64"
            ],
            "text/html": [
              "<div>\n",
              "<style scoped>\n",
              "    .dataframe tbody tr th:only-of-type {\n",
              "        vertical-align: middle;\n",
              "    }\n",
              "\n",
              "    .dataframe tbody tr th {\n",
              "        vertical-align: top;\n",
              "    }\n",
              "\n",
              "    .dataframe thead th {\n",
              "        text-align: right;\n",
              "    }\n",
              "</style>\n",
              "<table border=\"1\" class=\"dataframe\">\n",
              "  <thead>\n",
              "    <tr style=\"text-align: right;\">\n",
              "      <th></th>\n",
              "      <th>count</th>\n",
              "    </tr>\n",
              "    <tr>\n",
              "      <th>status</th>\n",
              "      <th></th>\n",
              "    </tr>\n",
              "  </thead>\n",
              "  <tbody>\n",
              "    <tr>\n",
              "      <th>1</th>\n",
              "      <td>36692</td>\n",
              "    </tr>\n",
              "    <tr>\n",
              "      <th>0</th>\n",
              "      <td>16351</td>\n",
              "    </tr>\n",
              "  </tbody>\n",
              "</table>\n",
              "</div><br><label><b>dtype:</b> int64</label>"
            ]
          },
          "metadata": {},
          "execution_count": 6
        }
      ]
    },
    {
      "cell_type": "markdown",
      "source": [
        "**DATA SPLIT**"
      ],
      "metadata": {
        "id": "hxLnKweJHHwC"
      }
    },
    {
      "cell_type": "code",
      "source": [
        "import torch\n",
        "import torch.nn as nn\n",
        "import torch.optim as optim\n",
        "import torch.nn.functional as F\n",
        "from torch.utils.data import DataLoader, TensorDataset\n",
        "from sklearn.model_selection import train_test_split\n",
        "import torch\n",
        "import numpy as np\n",
        "\n",
        "X = np.stack(df['word2vec_vector'].values)\n",
        "y = df['status'].values\n",
        "\n",
        "X_tensor = torch.tensor(X, dtype=torch.float32)\n",
        "y_tensor = torch.tensor(y, dtype=torch.long)\n",
        "X_train, X_test, y_train, y_test = train_test_split(X_tensor, y_tensor, test_size=0.2, random_state=42)\n",
        "\n",
        "train_data = TensorDataset(X_train, y_train)\n",
        "test_data = TensorDataset(X_test, y_test)\n",
        "\n",
        "train_loader = DataLoader(train_data, batch_size=32, shuffle=True)\n",
        "test_loader = DataLoader(test_data, batch_size=32, shuffle=False)\n",
        "\n"
      ],
      "metadata": {
        "id": "vuz-tEaGHHBL"
      },
      "execution_count": 9,
      "outputs": []
    },
    {
      "cell_type": "markdown",
      "source": [
        "**TRANSFORMER BASELINE**"
      ],
      "metadata": {
        "id": "Tv6C1WlNINcv"
      }
    },
    {
      "cell_type": "code",
      "source": [
        "class PositionalEncoding(nn.Module):\n",
        "    def __init__(self, d_model, max_len=5000):\n",
        "        super(PositionalEncoding, self).__init__()\n",
        "        self.d_model = d_model\n",
        "        pe = torch.zeros(max_len, d_model)\n",
        "        position = torch.arange(0, max_len, dtype=torch.float).unsqueeze(1)\n",
        "        div_term = torch.exp(torch.arange(0, d_model, 2).float() * (-torch.log(torch.tensor(10000.0)) / d_model))\n",
        "        pe[:, 0::2] = torch.sin(position * div_term)\n",
        "        pe[:, 1::2] = torch.cos(position * div_term)\n",
        "        self.pe = pe.unsqueeze(0)\n",
        "\n",
        "    def forward(self, x):\n",
        "        if x.shape[-1] != self.d_model:\n",
        "            raise ValueError(f\"Input has wrong last dimension {x.shape[-1]}, expected {self.d_model}\")\n",
        "        return x + self.pe[:, :x.size(1), :].to(x.device)\n",
        "\n",
        "class TransformerModel(nn.Module):\n",
        "    def __init__(self, input_size, d_model=128, num_heads=4, num_layers=2, num_classes=1):\n",
        "        super(TransformerModel, self).__init__()\n",
        "\n",
        "        self.embedding = nn.Linear(input_size, d_model)\n",
        "        self.pos_encoder = PositionalEncoding(d_model)\n",
        "\n",
        "        encoder_layers = nn.TransformerEncoderLayer(d_model=d_model, nhead=num_heads, dim_feedforward=256, dropout=0.1, batch_first=True)\n",
        "        self.transformer_encoder = nn.TransformerEncoder(encoder_layers, num_layers=num_layers)\n",
        "\n",
        "        self.fc = nn.Linear(d_model, num_classes)\n",
        "        self.dropout = nn.Dropout(0.3)\n",
        "\n",
        "    def forward(self, x):\n",
        "      x = self.embedding(x)\n",
        "      x = x.unsqueeze(1)\n",
        "      x = self.pos_encoder(x)\n",
        "      x = self.transformer_encoder(x)\n",
        "\n",
        "      x = x.mean(dim=1)\n",
        "      x = self.dropout(F.relu(x))\n",
        "      x = torch.sigmoid(self.fc(x))\n",
        "      return x\n",
        "\n",
        "device = torch.device(\"cuda\" if torch.cuda.is_available() else \"cpu\")\n",
        "\n",
        "input_size = X_train.shape[1]\n",
        "model = TransformerModel(input_size=input_size).to(device)\n",
        "\n",
        "criterion = nn.BCELoss()\n",
        "optimizer = optim.Adam(model.parameters(), lr=0.001)\n",
        "\n",
        "num_epochs = 10\n",
        "\n",
        "for epoch in range(num_epochs):\n",
        "    model.train()\n",
        "    running_loss = 0.0\n",
        "    correct = 0\n",
        "    total = 0\n",
        "\n",
        "    for inputs, labels in train_loader:\n",
        "        inputs, labels = inputs.to(device), labels.float().unsqueeze(1).to(device)\n",
        "\n",
        "        optimizer.zero_grad()\n",
        "        outputs = model(inputs)\n",
        "\n",
        "        loss = criterion(outputs, labels)\n",
        "        loss.backward()\n",
        "        optimizer.step()\n",
        "\n",
        "        predicted = (outputs > 0.5).float()\n",
        "        correct += (predicted == labels).sum().item()\n",
        "        total += labels.size(0)\n",
        "\n",
        "        running_loss += loss.item()\n",
        "\n",
        "    accuracy = 100 * correct / total\n",
        "    print(f\"Epoch [{epoch+1}/{num_epochs}], Loss: {running_loss/len(train_loader):.4f}, Accuracy: {accuracy:.2f}%\")\n",
        "\n",
        "model.eval()\n",
        "correct = 0\n",
        "total = 0\n",
        "test_loss = 0.0\n",
        "\n",
        "with torch.no_grad():\n",
        "    for inputs, labels in test_loader:\n",
        "        inputs, labels = inputs.to(device), labels.float().unsqueeze(1).to(device)\n",
        "\n",
        "        outputs = model(inputs)\n",
        "        loss = criterion(outputs, labels)\n",
        "        test_loss += loss.item()\n",
        "\n",
        "        predicted = (outputs > 0.5).float()\n",
        "        correct += (predicted == labels).sum().item()\n",
        "        total += labels.size(0)\n",
        "\n",
        "test_accuracy = 100 * correct / total\n",
        "print(f\"Test Loss: {test_loss/len(test_loader):.4f}, Test Accuracy: {test_accuracy:.2f}%\")"
      ],
      "metadata": {
        "colab": {
          "base_uri": "https://localhost:8080/"
        },
        "id": "cD3FrWDyIEmi",
        "outputId": "6f26c534-d402-4270-a3f1-3225a8b8ae82"
      },
      "execution_count": 14,
      "outputs": [
        {
          "output_type": "stream",
          "name": "stdout",
          "text": [
            "Epoch [1/10], Loss: 0.3614, Accuracy: 85.78%\n",
            "Epoch [2/10], Loss: 0.3231, Accuracy: 87.77%\n",
            "Epoch [3/10], Loss: 0.3109, Accuracy: 88.16%\n",
            "Epoch [4/10], Loss: 0.2864, Accuracy: 89.04%\n",
            "Epoch [5/10], Loss: 0.2771, Accuracy: 89.42%\n",
            "Epoch [6/10], Loss: 0.2597, Accuracy: 89.89%\n",
            "Epoch [7/10], Loss: 0.2440, Accuracy: 90.53%\n",
            "Epoch [8/10], Loss: 0.2372, Accuracy: 90.74%\n",
            "Epoch [9/10], Loss: 0.2305, Accuracy: 90.84%\n",
            "Epoch [10/10], Loss: 0.2262, Accuracy: 91.16%\n",
            "Test Loss: 0.2352, Test Accuracy: 90.32%\n"
          ]
        }
      ]
    },
    {
      "cell_type": "markdown",
      "source": [
        "**Focal Loss**"
      ],
      "metadata": {
        "id": "vhjWAoskKtfN"
      }
    },
    {
      "cell_type": "code",
      "source": [
        "import torch\n",
        "import torch.nn as nn\n",
        "import torch.optim as optim\n",
        "import torch.nn.functional as F\n",
        "\n",
        "class FocalLoss(nn.Module):\n",
        "    def __init__(self, alpha=0.25, gamma=2.0, reduction='mean'):\n",
        "        super(FocalLoss, self).__init__()\n",
        "        self.alpha = alpha\n",
        "        self.gamma = gamma\n",
        "        self.reduction = reduction\n",
        "\n",
        "    def forward(self, inputs, targets):\n",
        "        bce_loss = F.binary_cross_entropy(inputs, targets, reduction=\"none\")\n",
        "        p_t = inputs * targets + (1 - inputs) * (1 - targets)\n",
        "        focal_loss = self.alpha * (1 - p_t) ** self.gamma * bce_loss\n",
        "\n",
        "        if self.reduction == \"mean\":\n",
        "            return focal_loss.mean()\n",
        "        elif self.reduction == \"sum\":\n",
        "            return focal_loss.sum()\n",
        "        return focal_loss\n",
        "\n",
        "class TransformerModel(nn.Module):\n",
        "    def __init__(self, input_size, d_model=128, num_heads=4, num_layers=2, num_classes=1):\n",
        "        super(TransformerModel, self).__init__()\n",
        "        self.embedding = nn.Linear(input_size, d_model)\n",
        "        self.pos_encoder = PositionalEncoding(d_model)\n",
        "        encoder_layers = nn.TransformerEncoderLayer(d_model=d_model, nhead=num_heads, dim_feedforward=256, dropout=0.1, batch_first=True)\n",
        "        self.transformer_encoder = nn.TransformerEncoder(encoder_layers, num_layers=num_layers)\n",
        "        self.fc = nn.Linear(d_model, num_classes)\n",
        "        self.dropout = nn.Dropout(0.3)\n",
        "\n",
        "    def forward(self, x):\n",
        "        x = self.embedding(x)\n",
        "        x = x.unsqueeze(1)\n",
        "        x = self.pos_encoder(x)\n",
        "        x = self.transformer_encoder(x)\n",
        "        x = x.mean(dim=1)\n",
        "        x = self.dropout(F.relu(x))\n",
        "        x = torch.sigmoid(self.fc(x))\n",
        "        return x\n",
        "\n",
        "device = torch.device(\"cuda\" if torch.cuda.is_available() else \"cpu\")\n",
        "input_size = X_train.shape[1]\n",
        "model = TransformerModel(input_size=input_size).to(device)\n",
        "criterion = FocalLoss(alpha=0.25, gamma=2.0)\n",
        "optimizer = optim.Adam(model.parameters(), lr=0.001)\n",
        "num_epochs = 10\n",
        "\n",
        "for epoch in range(num_epochs):\n",
        "    model.train()\n",
        "    running_loss = 0.0\n",
        "    correct = 0\n",
        "    total = 0\n",
        "\n",
        "    for inputs, labels in train_loader:\n",
        "        inputs, labels = inputs.to(device), labels.float().unsqueeze(1).to(device)\n",
        "        optimizer.zero_grad()\n",
        "        outputs = model(inputs)\n",
        "        loss = criterion(outputs, labels)\n",
        "        loss.backward()\n",
        "        optimizer.step()\n",
        "        predicted = (outputs > 0.5).float()\n",
        "        correct += (predicted == labels).sum().item()\n",
        "        total += labels.size(0)\n",
        "        running_loss += loss.item()\n",
        "\n",
        "    accuracy = 100 * correct / total\n",
        "    print(f\"Epoch [{epoch+1}/{num_epochs}], Loss: {running_loss/len(train_loader):.4f}, Accuracy: {accuracy:.2f}%\")\n",
        "\n",
        "model.eval()\n",
        "correct = 0\n",
        "total = 0\n",
        "test_loss = 0.0\n",
        "\n",
        "with torch.no_grad():\n",
        "    for inputs, labels in test_loader:\n",
        "        inputs, labels = inputs.to(device), labels.float().unsqueeze(1).to(device)\n",
        "        outputs = model(inputs)\n",
        "        loss = criterion(outputs, labels)\n",
        "        test_loss += loss.item()\n",
        "        predicted = (outputs > 0.5).float()\n",
        "        correct += (predicted == labels).sum().item()\n",
        "        total += labels.size(0)\n",
        "\n",
        "test_accuracy = 100 * correct / total\n",
        "print(f\"Test Loss: {test_loss/len(test_loader):.4f}, Test Accuracy: {test_accuracy:.2f}%\")\n"
      ],
      "metadata": {
        "colab": {
          "base_uri": "https://localhost:8080/"
        },
        "id": "QBhXT9XQKs4l",
        "outputId": "9abe0178-9ee6-42f3-d2ab-02178f36970f"
      },
      "execution_count": 17,
      "outputs": [
        {
          "output_type": "stream",
          "name": "stdout",
          "text": [
            "Epoch [1/10], Loss: 0.0244, Accuracy: 85.22%\n",
            "Epoch [2/10], Loss: 0.0217, Accuracy: 87.67%\n",
            "Epoch [3/10], Loss: 0.0211, Accuracy: 88.00%\n",
            "Epoch [4/10], Loss: 0.0211, Accuracy: 87.94%\n",
            "Epoch [5/10], Loss: 0.0206, Accuracy: 88.37%\n",
            "Epoch [6/10], Loss: 0.0184, Accuracy: 89.35%\n",
            "Epoch [7/10], Loss: 0.0173, Accuracy: 90.06%\n",
            "Epoch [8/10], Loss: 0.0165, Accuracy: 90.48%\n",
            "Epoch [9/10], Loss: 0.0158, Accuracy: 90.76%\n",
            "Epoch [10/10], Loss: 0.0155, Accuracy: 91.13%\n",
            "Test Loss: 0.0164, Test Accuracy: 90.56%\n"
          ]
        }
      ]
    },
    {
      "cell_type": "markdown",
      "source": [
        "**WEIGHTED BCE**"
      ],
      "metadata": {
        "id": "nPF98qpiLtlS"
      }
    },
    {
      "cell_type": "code",
      "source": [
        "import torch\n",
        "import torch.nn as nn\n",
        "import torch.optim as optim\n",
        "import torch.nn.functional as F\n",
        "import numpy as np\n",
        "\n",
        "class TransformerModel(nn.Module):\n",
        "    def __init__(self, input_size, d_model=128, num_heads=4, num_layers=2, num_classes=1):\n",
        "        super(TransformerModel, self).__init__()\n",
        "        self.embedding = nn.Linear(input_size, d_model)\n",
        "        encoder_layers = nn.TransformerEncoderLayer(d_model=d_model, nhead=num_heads, dim_feedforward=256, dropout=0.1, batch_first=True)\n",
        "        self.transformer_encoder = nn.TransformerEncoder(encoder_layers, num_layers=num_layers)\n",
        "        self.fc = nn.Linear(d_model, num_classes)\n",
        "        self.dropout = nn.Dropout(0.3)\n",
        "\n",
        "    def forward(self, x):\n",
        "        x = self.embedding(x)\n",
        "        x = x.unsqueeze(1)\n",
        "        x = self.transformer_encoder(x)\n",
        "        x = x.mean(dim=1)\n",
        "        x = self.dropout(F.relu(x))\n",
        "        x = self.fc(x)\n",
        "        return x\n",
        "\n",
        "device = torch.device(\"cuda\" if torch.cuda.is_available() else \"cpu\")\n",
        "input_size = X_train.shape[1]\n",
        "model = TransformerModel(input_size=input_size).to(device)\n",
        "\n",
        "labels_np = np.concatenate([labels.numpy() for _, labels in train_loader])\n",
        "num_pos = np.sum(labels_np == 1)\n",
        "num_neg = np.sum(labels_np == 0)\n",
        "total_samples = num_pos + num_neg\n",
        "\n",
        "weight_pos = total_samples / (2 * num_pos)\n",
        "weight_neg = total_samples / (2 * num_neg)\n",
        "class_weights = torch.tensor([weight_neg, weight_pos], dtype=torch.float).to(device)\n",
        "\n",
        "pos_weight = class_weights[1]\n",
        "criterion = nn.BCEWithLogitsLoss(pos_weight=pos_weight)\n",
        "optimizer = optim.Adam(model.parameters(), lr=0.001)\n",
        "\n",
        "num_epochs = 10\n",
        "for epoch in range(num_epochs):\n",
        "    model.train()\n",
        "    running_loss = 0.0\n",
        "    correct = 0\n",
        "    total = 0\n",
        "\n",
        "    for inputs, labels in train_loader:\n",
        "        inputs, labels = inputs.to(device), labels.float().unsqueeze(1).to(device)\n",
        "        optimizer.zero_grad()\n",
        "        outputs = model(inputs)\n",
        "        loss = criterion(outputs, labels)\n",
        "        loss.backward()\n",
        "        optimizer.step()\n",
        "        predicted = (torch.sigmoid(outputs) > 0.5).float()\n",
        "        correct += (predicted == labels).sum().item()\n",
        "        total += labels.size(0)\n",
        "        running_loss += loss.item()\n",
        "\n",
        "    accuracy = 100 * correct / total\n",
        "    print(f\"Epoch [{epoch+1}/{num_epochs}], Loss: {running_loss/len(train_loader):.4f}, Accuracy: {accuracy:.2f}%\")\n",
        "\n",
        "model.eval()\n",
        "correct = 0\n",
        "total = 0\n",
        "test_loss = 0.0\n",
        "\n",
        "with torch.no_grad():\n",
        "    for inputs, labels in test_loader:\n",
        "        inputs, labels = inputs.to(device), labels.float().unsqueeze(1).to(device)\n",
        "        outputs = model(inputs)\n",
        "        loss = criterion(outputs, labels)\n",
        "        test_loss += loss.item()\n",
        "        predicted = (torch.sigmoid(outputs) > 0.5).float()\n",
        "        correct += (predicted == labels).sum().item()\n",
        "        total += labels.size(0)\n",
        "\n",
        "test_accuracy = 100 * correct / total\n",
        "print(f\"Test Loss: {test_loss/len(test_loader):.4f}, Test Accuracy: {test_accuracy:.2f}%\")\n"
      ],
      "metadata": {
        "colab": {
          "base_uri": "https://localhost:8080/"
        },
        "id": "KvjnXPONITbV",
        "outputId": "e88021a6-ee13-4dc2-ea0f-a1b69d748f9a"
      },
      "execution_count": 21,
      "outputs": [
        {
          "output_type": "stream",
          "name": "stdout",
          "text": [
            "Epoch [1/10], Loss: 0.2292, Accuracy: 89.32%\n",
            "Epoch [2/10], Loss: 0.1891, Accuracy: 91.44%\n",
            "Epoch [3/10], Loss: 0.1786, Accuracy: 91.93%\n",
            "Epoch [4/10], Loss: 0.1743, Accuracy: 91.85%\n",
            "Epoch [5/10], Loss: 0.1630, Accuracy: 92.52%\n",
            "Epoch [6/10], Loss: 0.1585, Accuracy: 92.82%\n",
            "Epoch [7/10], Loss: 0.1566, Accuracy: 92.91%\n",
            "Epoch [8/10], Loss: 0.1543, Accuracy: 92.86%\n",
            "Epoch [9/10], Loss: 0.1494, Accuracy: 93.26%\n",
            "Epoch [10/10], Loss: 0.1492, Accuracy: 93.03%\n",
            "Test Loss: 0.1626, Test Accuracy: 92.70%\n"
          ]
        }
      ]
    },
    {
      "cell_type": "markdown",
      "source": [
        "**BATCH SIZE VARIATION**"
      ],
      "metadata": {
        "id": "2z0qC-Q9NbWn"
      }
    },
    {
      "cell_type": "code",
      "source": [
        "import torch\n",
        "import torch.nn as nn\n",
        "import torch.optim as optim\n",
        "import torch.nn.functional as F\n",
        "from torch.utils.data import DataLoader, TensorDataset\n",
        "\n",
        "class PositionalEncoding(nn.Module):\n",
        "    def __init__(self, d_model, max_len=5000):\n",
        "        super(PositionalEncoding, self).__init__()\n",
        "        self.d_model = d_model\n",
        "        pe = torch.zeros(max_len, d_model)\n",
        "        position = torch.arange(0, max_len, dtype=torch.float).unsqueeze(1)\n",
        "        div_term = torch.exp(torch.arange(0, d_model, 2).float() * (-torch.log(torch.tensor(10000.0)) / d_model))\n",
        "        pe[:, 0::2] = torch.sin(position * div_term)\n",
        "        pe[:, 1::2] = torch.cos(position * div_term)\n",
        "        self.pe = pe.unsqueeze(0)\n",
        "\n",
        "    def forward(self, x):\n",
        "        if x.shape[-1] != self.d_model:\n",
        "            raise ValueError(f\"Input has wrong last dimension {x.shape[-1]}, expected {self.d_model}\")\n",
        "        return x + self.pe[:, :x.size(1), :].to(x.device)\n",
        "\n",
        "class TransformerModel(nn.Module):\n",
        "    def __init__(self, input_size, d_model=128, num_heads=4, num_layers=2, num_classes=1):\n",
        "        super(TransformerModel, self).__init__()\n",
        "        self.embedding = nn.Linear(input_size, d_model)\n",
        "        self.pos_encoder = PositionalEncoding(d_model)\n",
        "        encoder_layers = nn.TransformerEncoderLayer(d_model=d_model, nhead=num_heads, dim_feedforward=256, dropout=0.1, batch_first=True)\n",
        "        self.transformer_encoder = nn.TransformerEncoder(encoder_layers, num_layers=num_layers)\n",
        "        self.fc = nn.Linear(d_model, num_classes)\n",
        "        self.dropout = nn.Dropout(0.3)\n",
        "\n",
        "    def forward(self, x):\n",
        "        x = self.embedding(x)\n",
        "        x = x.unsqueeze(1)\n",
        "        x = self.pos_encoder(x)\n",
        "        x = self.transformer_encoder(x)\n",
        "        x = x.mean(dim=1)\n",
        "        x = self.dropout(F.relu(x))\n",
        "        x = self.fc(x)\n",
        "        return x\n",
        "\n",
        "device = torch.device(\"cuda\" if torch.cuda.is_available() else \"cpu\")\n",
        "\n",
        "train_dataset = TensorDataset(X_train, y_train)\n",
        "test_dataset = TensorDataset(X_test, y_test)\n",
        "\n",
        "batch_sizes = [32, 64, 256, 1024, 3200]\n",
        "num_epochs = 10\n",
        "\n",
        "for batch_size in batch_sizes:\n",
        "    train_loader = DataLoader(train_dataset, batch_size=batch_size, shuffle=True)\n",
        "    test_loader = DataLoader(test_dataset, batch_size=batch_size, shuffle=False)\n",
        "\n",
        "    model = TransformerModel(input_size=X_train.shape[1]).to(device)\n",
        "    optimizer = optim.Adam(model.parameters(), lr=0.001)\n",
        "\n",
        "    for epoch in range(num_epochs):\n",
        "        model.train()\n",
        "        running_loss = 0.0\n",
        "        correct = 0\n",
        "        total = 0\n",
        "\n",
        "        for inputs, labels in train_loader:\n",
        "            inputs, labels = inputs.to(device), labels.float().unsqueeze(1).to(device)\n",
        "            optimizer.zero_grad()\n",
        "            outputs = model(inputs)\n",
        "            loss = criterion(outputs, labels)\n",
        "            loss.backward()\n",
        "            optimizer.step()\n",
        "            predicted = (torch.sigmoid(outputs) > 0.5).float()\n",
        "            correct += (predicted == labels).sum().item()\n",
        "            total += labels.size(0)\n",
        "            running_loss += loss.item()\n",
        "\n",
        "        accuracy = 100 * correct / total\n",
        "        print(f\"Batch Size: {batch_size}, Epoch [{epoch+1}/{num_epochs}], Loss: {running_loss/len(train_loader):.4f}, Accuracy: {accuracy:.2f}%\")\n",
        "\n",
        "    model.eval()\n",
        "    correct = 0\n",
        "    total = 0\n",
        "    test_loss = 0.0\n",
        "\n",
        "    with torch.no_grad():\n",
        "        for inputs, labels in test_loader:\n",
        "            inputs, labels = inputs.to(device), labels.float().unsqueeze(1).to(device)\n",
        "            outputs = model(inputs)\n",
        "            loss = criterion(outputs, labels)\n",
        "            test_loss += loss.item()\n",
        "            predicted = (torch.sigmoid(outputs) > 0.5).float()\n",
        "            correct += (predicted == labels).sum().item()\n",
        "            total += labels.size(0)\n",
        "\n",
        "    test_accuracy = 100 * correct / total\n",
        "    print(f\"Batch Size: {batch_size}, Test Loss: {test_loss/len(test_loader):.4f}, Test Accuracy: {test_accuracy:.2f}%\")\n"
      ],
      "metadata": {
        "colab": {
          "base_uri": "https://localhost:8080/"
        },
        "id": "c1mwEp-DNav_",
        "outputId": "cd797f3b-966e-4315-96ac-05e07d8552f3"
      },
      "execution_count": 23,
      "outputs": [
        {
          "output_type": "stream",
          "name": "stdout",
          "text": [
            "Batch Size: 32, Epoch [1/10], Loss: 0.3613, Accuracy: 85.89%\n",
            "Batch Size: 32, Epoch [2/10], Loss: 0.3220, Accuracy: 87.72%\n",
            "Batch Size: 32, Epoch [3/10], Loss: 0.3148, Accuracy: 87.87%\n",
            "Batch Size: 32, Epoch [4/10], Loss: 0.2898, Accuracy: 88.95%\n",
            "Batch Size: 32, Epoch [5/10], Loss: 0.2754, Accuracy: 89.54%\n",
            "Batch Size: 32, Epoch [6/10], Loss: 0.2642, Accuracy: 89.80%\n",
            "Batch Size: 32, Epoch [7/10], Loss: 0.2578, Accuracy: 90.14%\n",
            "Batch Size: 32, Epoch [8/10], Loss: 0.2462, Accuracy: 90.46%\n",
            "Batch Size: 32, Epoch [9/10], Loss: 0.2383, Accuracy: 90.69%\n",
            "Batch Size: 32, Epoch [10/10], Loss: 0.2327, Accuracy: 90.96%\n",
            "Batch Size: 32, Test Loss: 0.2520, Test Accuracy: 90.07%\n",
            "Batch Size: 64, Epoch [1/10], Loss: 0.3626, Accuracy: 85.78%\n",
            "Batch Size: 64, Epoch [2/10], Loss: 0.3151, Accuracy: 88.00%\n",
            "Batch Size: 64, Epoch [3/10], Loss: 0.2731, Accuracy: 89.57%\n",
            "Batch Size: 64, Epoch [4/10], Loss: 0.2515, Accuracy: 90.34%\n",
            "Batch Size: 64, Epoch [5/10], Loss: 0.2350, Accuracy: 90.83%\n",
            "Batch Size: 64, Epoch [6/10], Loss: 0.2267, Accuracy: 91.33%\n",
            "Batch Size: 64, Epoch [7/10], Loss: 0.2195, Accuracy: 91.38%\n",
            "Batch Size: 64, Epoch [8/10], Loss: 0.2157, Accuracy: 91.70%\n",
            "Batch Size: 64, Epoch [9/10], Loss: 0.2105, Accuracy: 91.89%\n",
            "Batch Size: 64, Epoch [10/10], Loss: 0.2108, Accuracy: 92.11%\n",
            "Batch Size: 64, Test Loss: 0.2155, Test Accuracy: 91.32%\n",
            "Batch Size: 256, Epoch [1/10], Loss: 0.4183, Accuracy: 82.35%\n",
            "Batch Size: 256, Epoch [2/10], Loss: 0.2955, Accuracy: 88.62%\n",
            "Batch Size: 256, Epoch [3/10], Loss: 0.2631, Accuracy: 89.91%\n",
            "Batch Size: 256, Epoch [4/10], Loss: 0.2433, Accuracy: 90.50%\n",
            "Batch Size: 256, Epoch [5/10], Loss: 0.2306, Accuracy: 90.98%\n",
            "Batch Size: 256, Epoch [6/10], Loss: 0.2208, Accuracy: 91.37%\n",
            "Batch Size: 256, Epoch [7/10], Loss: 0.2118, Accuracy: 91.73%\n",
            "Batch Size: 256, Epoch [8/10], Loss: 0.2071, Accuracy: 91.78%\n",
            "Batch Size: 256, Epoch [9/10], Loss: 0.2016, Accuracy: 92.00%\n",
            "Batch Size: 256, Epoch [10/10], Loss: 0.1966, Accuracy: 92.40%\n",
            "Batch Size: 256, Test Loss: 0.2106, Test Accuracy: 91.47%\n",
            "Batch Size: 1024, Epoch [1/10], Loss: 0.5840, Accuracy: 70.69%\n",
            "Batch Size: 1024, Epoch [2/10], Loss: 0.3643, Accuracy: 86.03%\n",
            "Batch Size: 1024, Epoch [3/10], Loss: 0.3255, Accuracy: 87.52%\n",
            "Batch Size: 1024, Epoch [4/10], Loss: 0.3093, Accuracy: 87.97%\n",
            "Batch Size: 1024, Epoch [5/10], Loss: 0.2765, Accuracy: 89.36%\n",
            "Batch Size: 1024, Epoch [6/10], Loss: 0.2569, Accuracy: 90.05%\n",
            "Batch Size: 1024, Epoch [7/10], Loss: 0.2400, Accuracy: 90.70%\n",
            "Batch Size: 1024, Epoch [8/10], Loss: 0.2325, Accuracy: 91.00%\n",
            "Batch Size: 1024, Epoch [9/10], Loss: 0.2209, Accuracy: 91.35%\n",
            "Batch Size: 1024, Epoch [10/10], Loss: 0.2147, Accuracy: 91.58%\n",
            "Batch Size: 1024, Test Loss: 0.2143, Test Accuracy: 91.39%\n",
            "Batch Size: 3200, Epoch [1/10], Loss: 0.6329, Accuracy: 68.20%\n",
            "Batch Size: 3200, Epoch [2/10], Loss: 0.5493, Accuracy: 73.45%\n",
            "Batch Size: 3200, Epoch [3/10], Loss: 0.4016, Accuracy: 83.97%\n",
            "Batch Size: 3200, Epoch [4/10], Loss: 0.3539, Accuracy: 86.37%\n",
            "Batch Size: 3200, Epoch [5/10], Loss: 0.3340, Accuracy: 87.08%\n",
            "Batch Size: 3200, Epoch [6/10], Loss: 0.3197, Accuracy: 87.64%\n",
            "Batch Size: 3200, Epoch [7/10], Loss: 0.3187, Accuracy: 87.40%\n",
            "Batch Size: 3200, Epoch [8/10], Loss: 0.2964, Accuracy: 88.66%\n",
            "Batch Size: 3200, Epoch [9/10], Loss: 0.2895, Accuracy: 89.08%\n",
            "Batch Size: 3200, Epoch [10/10], Loss: 0.2810, Accuracy: 89.19%\n",
            "Batch Size: 3200, Test Loss: 0.2679, Test Accuracy: 89.34%\n"
          ]
        }
      ]
    }
  ]
}